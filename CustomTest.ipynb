{
 "cells": [
  {
   "cell_type": "markdown",
   "metadata": {},
   "source": [
    "# Get the XML Docs"
   ]
  },
  {
   "cell_type": "code",
   "execution_count": 2,
   "metadata": {
    "collapsed": false
   },
   "outputs": [],
   "source": [
    "import graphlab\n",
    "from graphlab import SFrame"
   ]
  },
  {
   "cell_type": "code",
   "execution_count": 3,
   "metadata": {
    "collapsed": true
   },
   "outputs": [],
   "source": [
    "import xml.dom.minidom as minidom\n",
    "request_xml = minidom.parse('xml/ImageRequest.xml')\n",
    "info_xml = minidom.parse('xml/ImageInfo.xml')"
   ]
  },
  {
   "cell_type": "code",
   "execution_count": 4,
   "metadata": {
    "collapsed": true
   },
   "outputs": [],
   "source": [
    "def upload_image(image_filename, request_xml):\n",
    "    import base64\n",
    "    import requests\n",
    "    import xml.dom.minidom as minidom\n",
    "    \n",
    "    # encode the image as base64\n",
    "    image_file = open(image_filename, 'rb')\n",
    "    encoded_string = base64.b64encode(image_file.read())\n",
    "    \n",
    "    #insert the encoded string into the xml\n",
    "    request_xml.getElementsByTagName('imagefile_data')[0].firstChild.nodeValue = encoded_string\n",
    "    \n",
    "    #headers for the request\n",
    "    headers = {\n",
    "        'Content-Type': 'application/xml'\n",
    "    }\n",
    "    \n",
    "    #send the request\n",
    "    r = requests.post('http://www.betafaceapi.com/service.svc/UploadNewImage_File', data=request_xml.toxml(), headers=headers)\n",
    "    \n",
    "    #get the response xml as DOM\n",
    "    response_xml = minidom.parseString(r.text)\n",
    "    uid = response_xml.getElementsByTagName('img_uid')[0].firstChild.nodeValue\n",
    "    print \"Image Filename: \"+image_filename+\"\\t UID: \"+str(uid)\n",
    "    \n",
    "    return uid  \n",
    "\n",
    "def get_image_info(image_uid, info_xml):\n",
    "    import xml.dom.minidom as minidom\n",
    "    import requests\n",
    "    \n",
    "    # insert the UID into the xml\n",
    "    info_xml.getElementsByTagName('img_uid')[0].firstChild.nodeValue = image_uid\n",
    "    \n",
    "    #prepare headers\n",
    "    headers = {\n",
    "        'Content-Type': 'application/xml'\n",
    "    }\n",
    "    \n",
    "    #send request\n",
    "    r = requests.post('http://www.betafaceapi.com/service.svc/GetImageInfo', data=info_xml.toxml(), headers=headers)\n",
    "    \n",
    "    return minidom.parseString(r.text)\n",
    "\n",
    "def get_feature_points(xml):\n",
    "    import numpy as np\n",
    "    \n",
    "    pointInfos = xml.getElementsByTagName('PointInfo')\n",
    "    \n",
    "    feature_points = {}\n",
    "    \n",
    "    for info in pointInfos:\n",
    "        name = info.getElementsByTagName('name')[0].firstChild.nodeValue\n",
    "        name = name.replace(' ', '_')\n",
    "        x = info.getElementsByTagName('x')[0].firstChild.nodeValue;\n",
    "        y = info.getElementsByTagName('y')[0].firstChild.nodeValue;\n",
    "        \n",
    "        feature_points[str(name)] = {\n",
    "            'x': float(x),\n",
    "            'y': float(y)\n",
    "        }\n",
    "    return feature_points\n",
    "\n",
    "def calculate_distance(feature_1, feature_2, feature_points):\n",
    "    import numpy as np\n",
    "    x = np.array([feature_points[feature_1]['x'],feature_points[feature_1]['y']])\n",
    "    y = np.array([feature_points[feature_2]['x'],feature_points[feature_2]['y']])\n",
    "    return np.linalg.norm(x-y)"
   ]
  },
  {
   "cell_type": "markdown",
   "metadata": {},
   "source": [
    "# Get Image UID"
   ]
  },
  {
   "cell_type": "code",
   "execution_count": 9,
   "metadata": {
    "collapsed": false
   },
   "outputs": [
    {
     "name": "stdout",
     "output_type": "stream",
     "text": [
      "Image Filename: images/0007.jpg\t UID: 8bc41a26-45a8-4444-9bb2-a123046a4200\n"
     ]
    }
   ],
   "source": [
    "uid = upload_image(image_filename='images/0007.jpg', request_xml=request_xml)"
   ]
  },
  {
   "cell_type": "markdown",
   "metadata": {},
   "source": [
    "# Get feature points"
   ]
  },
  {
   "cell_type": "code",
   "execution_count": 10,
   "metadata": {
    "collapsed": false
   },
   "outputs": [
    {
     "data": {
      "text/plain": [
       "122"
      ]
     },
     "execution_count": 10,
     "metadata": {},
     "output_type": "execute_result"
    }
   ],
   "source": [
    "feature_points = get_feature_points(get_image_info(uid, info_xml=info_xml))\n",
    "len(feature_points.keys())"
   ]
  },
  {
   "cell_type": "markdown",
   "metadata": {},
   "source": [
    "# Calculate necessary features and build SFrame"
   ]
  },
  {
   "cell_type": "code",
   "execution_count": 11,
   "metadata": {
    "collapsed": false
   },
   "outputs": [],
   "source": [
    "features = {\n",
    "        'eye_outer': [calculate_distance('basic_eye_left_outer', 'basic_eye_right_outer', feature_points)],\n",
    "        'eye_inner': [calculate_distance('basic_eye_left_inner', 'basic_eye_right_inner', feature_points)],\n",
    "        'eye': [calculate_distance('basic_eye_left', 'basic_eye_right', feature_points)],\n",
    "        'mouth': [calculate_distance('basic_mouth_left', 'basic_mouth_right', feature_points)],\n",
    "        'nose_mouth': [calculate_distance('basic_nose_tip', 'basic_mouth_center', feature_points)],\n",
    "        'eyebrow_inner': [calculate_distance('basic_eyebrow_left_inner_corner', 'basic_eyebrow_right_inner_corner', feature_points)],\n",
    "        'eyebrow_outer': [calculate_distance('basic_eyebrow_left_outer_corner', 'basic_eyebrow_right_outer_corner', feature_points)],\n",
    "        'chin': [calculate_distance('basic_chin_left', 'basic_chin_right', feature_points)],\n",
    "        'nose': [calculate_distance('basic_nose_left', 'basic_nose_right', feature_points)],\n",
    "        'chin_mouth': [calculate_distance('basic_chin_bottom', 'basic_mouth_center', feature_points)]\n",
    "    }\n",
    "data = SFrame(features)"
   ]
  },
  {
   "cell_type": "code",
   "execution_count": 12,
   "metadata": {
    "collapsed": false
   },
   "outputs": [
    {
     "name": "stdout",
     "output_type": "stream",
     "text": [
      "+---------------+-------+-------+------------------+-----------------+\n",
      "|      name     | index | class |      value       |      stderr     |\n",
      "+---------------+-------+-------+------------------+-----------------+\n",
      "|  (intercept)  |  None |   1   |  -21.3759477012  |  7.34592570414  |\n",
      "|      chin     |  None |   1   |  0.130545894738  | 0.0491052418295 |\n",
      "|   chin_mouth  |  None |   1   | -0.0936429572762 | 0.0741099931769 |\n",
      "|      eye      |  None |   1   | -0.0175815041063 |  0.352233322903 |\n",
      "|   eye_inner   |  None |   1   |  0.711311591192  |  0.22891455113  |\n",
      "|   eye_outer   |  None |   1   | -0.0476925114056 |  0.247895652295 |\n",
      "| eyebrow_inner |  None |   1   | -0.104485073087  |  0.136263480391 |\n",
      "| eyebrow_outer |  None |   1   | -0.0828540505092 | 0.0741399281388 |\n",
      "|     mouth     |  None |   1   | -0.291854962374  | 0.0830294828059 |\n",
      "|      nose     |  None |   1   |  0.371173990239  |  0.15459639892  |\n",
      "|   nose_mouth  |  None |   1   |  0.127011547386  | 0.0736648543777 |\n",
      "+---------------+-------+-------+------------------+-----------------+\n",
      "[11 rows x 5 columns]\n",
      "\n"
     ]
    }
   ],
   "source": [
    "ethnicity_model = graphlab.load_model('model/ethnicity_model/')\n",
    "ethnicity_model.get(\"coefficients\").print_rows(num_rows=30)"
   ]
  },
  {
   "cell_type": "markdown",
   "metadata": {},
   "source": [
    "# Are you Chinese or not"
   ]
  },
  {
   "cell_type": "code",
   "execution_count": 8,
   "metadata": {
    "collapsed": false
   },
   "outputs": [
    {
     "name": "stdout",
     "output_type": "stream",
     "text": [
      "Ethnicity: Non-Chinese \t Confidence: 0.979491347285\n"
     ]
    }
   ],
   "source": [
    "confidence = ethnicity_model.predict(data, output_type='probability')\n",
    "ethnicity = ethnicity_model.predict(data)\n",
    "if ethnicity[0] == 1:\n",
    "    print \"Ethnicity: Chinese \\t Confidence: \"+str(confidence[0])\n",
    "else:\n",
    "    print \"Ethnicity: Non-Chinese \\t Confidence: \"+str(1-confidence[0])"
   ]
  },
  {
   "cell_type": "code",
   "execution_count": null,
   "metadata": {
    "collapsed": true
   },
   "outputs": [],
   "source": []
  }
 ],
 "metadata": {
  "kernelspec": {
   "display_name": "Python 2",
   "language": "python",
   "name": "python2"
  },
  "language_info": {
   "codemirror_mode": {
    "name": "ipython",
    "version": 2
   },
   "file_extension": ".py",
   "mimetype": "text/x-python",
   "name": "python",
   "nbconvert_exporter": "python",
   "pygments_lexer": "ipython2",
   "version": "2.7.11"
  }
 },
 "nbformat": 4,
 "nbformat_minor": 0
}
